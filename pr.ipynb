{
 "cells": [
  {
   "cell_type": "code",
   "execution_count": null,
   "id": "06be6d6b",
   "metadata": {},
   "outputs": [
    {
     "name": "stderr",
     "output_type": "stream",
     "text": [
      "C:\\Users\\user\\AppData\\Local\\Temp\\ipykernel_13624\\2400299819.py:47: FutureWarning: \n",
      "\n",
      "Passing `palette` without assigning `hue` is deprecated and will be removed in v0.14.0. Assign the `x` variable to `hue` and set `legend=False` for the same effect.\n",
      "\n",
      "  bars = sns.barplot(x=cluster_counts.index, y=cluster_counts.values, palette=colors)\n"
     ]
    },
    {
     "ename": "NameError",
     "evalue": "name 'df_clean' is not defined",
     "output_type": "error",
     "traceback": [
      "\u001b[31m---------------------------------------------------------------------------\u001b[39m",
      "\u001b[31mNameError\u001b[39m                                 Traceback (most recent call last)",
      "\u001b[36mCell\u001b[39m\u001b[36m \u001b[39m\u001b[32mIn[10]\u001b[39m\u001b[32m, line 55\u001b[39m\n\u001b[32m     49\u001b[39m     plt.text(i, value + \u001b[32m0.5\u001b[39m, \u001b[38;5;28mstr\u001b[39m(value), ha=\u001b[33m'\u001b[39m\u001b[33mcenter\u001b[39m\u001b[33m'\u001b[39m, fontsize=\u001b[32m12\u001b[39m)\n\u001b[32m     52\u001b[39m \u001b[38;5;66;03m# Nomor 1: Menentukan nama untuk tiap cluster berdasarkan rata-rata nilai fitur di setiap cluster\u001b[39;00m\n\u001b[32m     53\u001b[39m \n\u001b[32m     54\u001b[39m \u001b[38;5;66;03m# Hitung rata-rata tiap fitur per cluster\u001b[39;00m\n\u001b[32m---> \u001b[39m\u001b[32m55\u001b[39m cluster_summary = \u001b[43mdf_clean\u001b[49m.groupby(\u001b[33m'\u001b[39m\u001b[33mCluster\u001b[39m\u001b[33m'\u001b[39m)[features].mean().round(\u001b[32m2\u001b[39m)\n\u001b[32m     57\u001b[39m \u001b[38;5;66;03m# Tampilkan summary untuk analisis manual\u001b[39;00m\n\u001b[32m     58\u001b[39m cluster_summary\n",
      "\u001b[31mNameError\u001b[39m: name 'df_clean' is not defined"
     ]
    },
    {
     "data": {
      "image/png": "[encoded data removed]",
      "text/plain": [
       "<Figure size 800x600 with 1 Axes>"
      ]
     },
     "metadata": {},
     "output_type": "display_data"
    }
   ],
   "source": [
    "import matplotlib.pyplot as plt\n",
    "import seaborn as sns\n",
    "import pandas as pd\n",
    "from sklearn.preprocessing import StandardScaler\n",
    "from sklearn.cluster import KMeans\n",
    "\n",
    "# Load dan bersihkan data\n",
    "df = pd.read_csv(\"Klasifikasi_Tingkat_Kemiskinan_Diperbaiki.csv\")\n",
    "columns_to_clean = [\n",
    "    'Persentase Penduduk Miskin (P0) Menurut Kabupaten/Kota (Persen)',\n",
    "    'Rata-rata Lama Sekolah Penduduk 15+ (Tahun)',\n",
    "    'Indeks Pembangunan Manusia',\n",
    "    'Umur Harapan Hidup (Tahun)',\n",
    "    'Persentase rumah tangga yang memiliki akses terhadap sanitasi layak',\n",
    "    'Persentase rumah tangga yang memiliki akses terhadap air minum layak',\n",
    "    'Tingkat Pengangguran Terbuka',\n",
    "    'Tingkat Partisipasi Angkatan Kerja'\n",
    "]\n",
    "\n",
    "# Mengganti koma menjadi titik\n",
    "for col in columns_to_clean:\n",
    "    df[col] = df[col].apply(lambda x: float(str(x).replace(\",\", \".\")))\n",
    "\n",
    "# Mengelompokkan berdasarkan provinsi\n",
    "df_provinsi = df.groupby(\"Provinsi\").mean(numeric_only=True)\n",
    "\n",
    "# Standarisasi dan clustering\n",
    "scaler = StandardScaler()\n",
    "scaled_data = scaler.fit_transform(df_provinsi)\n",
    "kmeans = KMeans(n_clusters=3, random_state=42)\n",
    "df_provinsi['Cluster'] = kmeans.fit_predict(scaled_data)\n",
    "\n",
    "# Menambahkan kembali nama provinsi\n",
    "df_provinsi_reset = df_provinsi.reset_index()\n",
    "\n",
    "# ===== Tambahan: Rata-rata indikator per cluster =====\n",
    "numeric_cols = df_provinsi_reset.select_dtypes(include='number').columns.tolist()\n",
    "cluster_summary = df_provinsi_reset.groupby(\"Cluster\")[numeric_cols].mean()\n",
    "\n",
    "\n",
    "# ===== Visualisasi diagram batang =====\n",
    "sns.set(style=\"whitegrid\")\n",
    "cluster_counts = df_provinsi['Cluster'].value_counts().sort_index()\n",
    "colors = sns.color_palette(\"Set1\", 3)\n",
    "\n",
    "plt.figure(figsize=(8, 6))\n",
    "bars = sns.barplot(x=cluster_counts.index, y=cluster_counts.values, palette=colors)\n",
    "for i, value in enumerate(cluster_counts.values):\n",
    "    plt.text(i, value + 0.5, str(value), ha='center', fontsize=12)\n",
    "\n",
    "\n",
    "# Nomor 1: Menentukan nama untuk tiap cluster berdasarkan rata-rata nilai fitur di setiap cluster\n",
    "\n",
    "\n",
    "# Tampilkan summary untuk analisis manual\n",
    "cluster_summary\n",
    "\n",
    "\n",
    "plt.title('Distribusi Provinsi per Cluster\\n(Hasil Segmentasi K-Means)', fontsize=14, weight='bold')\n",
    "plt.xlabel('Cluster')\n",
    "plt.ylabel('Jumlah Provinsi')\n",
    "plt.xticks([0, 1, 2], ['Cluster 0', 'Cluster 1', 'Cluster 2'])\n",
    "plt.tight_layout()\n",
    "plt.savefig(\"diagram_batang_cluster.png\", dpi=300)\n",
    "plt.show()\n"
   ]
  }
 ],
 "metadata": {
  "kernelspec": {
   "display_name": "Python 3",
   "language": "python",
   "name": "python3"
  },
  "language_info": {
   "codemirror_mode": {
    "name": "ipython",
    "version": 3
   },
   "file_extension": ".py",
   "mimetype": "text/x-python",
   "name": "python",
   "nbconvert_exporter": "python",
   "pygments_lexer": "ipython3",
   "version": "3.12.2"
  }
 },
 "nbformat": 4,
 "nbformat_minor": 5
}
